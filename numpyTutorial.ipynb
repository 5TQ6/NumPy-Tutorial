{
  "metadata": {
    "kernelspec": {
      "name": "python",
      "display_name": "Python (Pyodide)",
      "language": "python"
    },
    "language_info": {
      "codemirror_mode": {
        "name": "python",
        "version": 3
      },
      "file_extension": ".py",
      "mimetype": "text/x-python",
      "name": "python",
      "nbconvert_exporter": "python",
      "pygments_lexer": "ipython3",
      "version": "3.8"
    }
  },
  "nbformat_minor": 4,
  "nbformat": 4,
  "cells": [
    {
      "cell_type": "markdown",
      "source": "# Numpy Python tutorial \n* **Why we use numpy rather than list?**\n  ```\n  Because numpy is much faster than lists and the reason for this is:\n  1. Numpy uses fixed types (reads less bytes)\n  2. Numpy uses contigouos memory\n  ```\n  <br>\n  \n* **Applications of Numpy**\n  ```\n  1. Mathematics (MATLAB replacement)\n  2. Plotting (Matplotlib)\n  3. Backend (Pandas, Connect 4, Digital Photography)\n  4. Machine Learning (Tensors)\n  ```",
      "metadata": {}
    },
    {
      "cell_type": "markdown",
      "source": "# Load in NumPy",
      "metadata": {}
    },
    {
      "cell_type": "code",
      "source": "import numpy as np",
      "metadata": {
        "trusted": true
      },
      "outputs": [],
      "execution_count": 2
    },
    {
      "cell_type": "markdown",
      "source": "## The basics",
      "metadata": {
        "jp-MarkdownHeadingCollapsed": true
      }
    },
    {
      "cell_type": "code",
      "source": "a = np.array([1,2,3])\nprint(a) # 1D dimensional arary\n# or type a instead of print(a)",
      "metadata": {
        "trusted": true
      },
      "outputs": [
        {
          "name": "stdout",
          "text": "[1 2 3]\n",
          "output_type": "stream"
        }
      ],
      "execution_count": 3
    },
    {
      "cell_type": "code",
      "source": "b = np.array([[9.0,8.0,7.0],[6.0,5.0,4.0]]) # 2D dimensional array\nprint(b)",
      "metadata": {
        "trusted": true
      },
      "outputs": [
        {
          "name": "stdout",
          "text": "[[9. 8. 7.]\n [6. 5. 4.]]\n",
          "output_type": "stream"
        }
      ],
      "execution_count": 4
    },
    {
      "cell_type": "code",
      "source": "# Get dimension of an arary\nprint(a.ndim)\nprint(b.ndim)",
      "metadata": {
        "trusted": true
      },
      "outputs": [
        {
          "name": "stdout",
          "text": "1\n2\n",
          "output_type": "stream"
        }
      ],
      "execution_count": 5
    },
    {
      "cell_type": "code",
      "source": "# Get shape of an arary\nprint(a.shape)\nprint(b.shape)",
      "metadata": {
        "trusted": true
      },
      "outputs": [
        {
          "name": "stdout",
          "text": "(3,)\n(2, 3)\n",
          "output_type": "stream"
        }
      ],
      "execution_count": 6
    },
    {
      "cell_type": "code",
      "source": "# Get type\nprint(a.dtype)\nprint(b.dtype)",
      "metadata": {
        "trusted": true
      },
      "outputs": [
        {
          "name": "stdout",
          "text": "int32\nfloat64\n",
          "output_type": "stream"
        }
      ],
      "execution_count": 7
    },
    {
      "cell_type": "code",
      "source": "# We can specify the data type for the array\nc = np.array([4,5,6], dtype = 'int16')\nprint(c.dtype)",
      "metadata": {
        "trusted": true
      },
      "outputs": [
        {
          "name": "stdout",
          "text": "int16\n",
          "output_type": "stream"
        }
      ],
      "execution_count": 8
    },
    {
      "cell_type": "code",
      "source": "# Get size \nprint(a.itemsize)\nprint(b.itemsize)\nprint(c.itemsize)",
      "metadata": {
        "trusted": true
      },
      "outputs": [
        {
          "name": "stdout",
          "text": "4\n8\n2\n",
          "output_type": "stream"
        }
      ],
      "execution_count": 9
    },
    {
      "cell_type": "code",
      "source": "# Get total size (number of elements * size of each element)\n# a.size returns the number of elements in the array\nprint(a.size * a.itemsize)\nprint(b.size * b.itemsize)\nprint(c.size * c.itemsize)\n\n# OR\n\nprint(a.nbytes)\nprint(b.nbytes)\nprint(c.nbytes)",
      "metadata": {
        "trusted": true
      },
      "outputs": [
        {
          "name": "stdout",
          "text": "12\n48\n6\n12\n48\n6\n",
          "output_type": "stream"
        }
      ],
      "execution_count": 10
    },
    {
      "cell_type": "markdown",
      "source": "## Accessing/Changing specific elements, rows, columns, etc",
      "metadata": {}
    },
    {
      "cell_type": "code",
      "source": "a = np.array([[1,2,3,4,5,6,7],[8,9,10,11,12,13,14]])\nprint(a)",
      "metadata": {
        "trusted": true
      },
      "outputs": [
        {
          "name": "stdout",
          "text": "[[ 1  2  3  4  5  6  7]\n [ 8  9 10 11 12 13 14]]\n",
          "output_type": "stream"
        }
      ],
      "execution_count": 11
    },
    {
      "cell_type": "code",
      "source": "# Get a specific element [r,c]\n# For example we want to get the number '13'\na[1,5] # 1 is for second row , 5 is for 6th element ",
      "metadata": {
        "trusted": true
      },
      "outputs": [
        {
          "execution_count": 12,
          "output_type": "execute_result",
          "data": {
            "text/plain": "13"
          },
          "metadata": {}
        }
      ],
      "execution_count": 12
    },
    {
      "cell_type": "code",
      "source": "# Get a specific row\na[0, :] # 0 is for the first row , : is for all the elements in that ",
      "metadata": {
        "trusted": true
      },
      "outputs": [
        {
          "execution_count": 13,
          "output_type": "execute_result",
          "data": {
            "text/plain": "array([1, 2, 3, 4, 5, 6, 7])"
          },
          "metadata": {}
        }
      ],
      "execution_count": 13
    },
    {
      "cell_type": "code",
      "source": "# Get a specific column\na[:, 2] # : is for all the rows , 2 is for the thrid column",
      "metadata": {
        "trusted": true
      },
      "outputs": [
        {
          "execution_count": 14,
          "output_type": "execute_result",
          "data": {
            "text/plain": "array([ 3, 10])"
          },
          "metadata": {}
        }
      ],
      "execution_count": 14
    },
    {
      "cell_type": "code",
      "source": "# Getting a little more fancy [startindex:endindex:stepsize]\na[0, 1:6:2] ",
      "metadata": {
        "trusted": true
      },
      "outputs": [
        {
          "execution_count": 15,
          "output_type": "execute_result",
          "data": {
            "text/plain": "array([2, 4, 6])"
          },
          "metadata": {}
        }
      ],
      "execution_count": 15
    },
    {
      "cell_type": "code",
      "source": "# Change the 13 to 20\na[1,5] = 20\nprint(a)",
      "metadata": {
        "trusted": true
      },
      "outputs": [
        {
          "name": "stdout",
          "text": "[[ 1  2  3  4  5  6  7]\n [ 8  9 10 11 12 20 14]]\n",
          "output_type": "stream"
        }
      ],
      "execution_count": 16
    },
    {
      "cell_type": "code",
      "source": "# Change the entire row or column\na[1, :] = 1\nprint(a)",
      "metadata": {
        "trusted": true
      },
      "outputs": [
        {
          "name": "stdout",
          "text": "[[1 2 3 4 5 6 7]\n [1 1 1 1 1 1 1]]\n",
          "output_type": "stream"
        }
      ],
      "execution_count": 17
    },
    {
      "cell_type": "markdown",
      "source": "## 3D Example",
      "metadata": {}
    },
    {
      "cell_type": "code",
      "source": "b = np.array([[[1,2],[3,4]],[[5,6],[7,8]]])\nprint(b)",
      "metadata": {
        "trusted": true
      },
      "outputs": [
        {
          "name": "stdout",
          "text": "[[[1 2]\n  [3 4]]\n\n [[5 6]\n  [7 8]]]\n",
          "output_type": "stream"
        }
      ],
      "execution_count": 18
    },
    {
      "cell_type": "code",
      "source": "# Get specific element (work outside in)\nb[0,1,1] ",
      "metadata": {
        "trusted": true
      },
      "outputs": [
        {
          "execution_count": 19,
          "output_type": "execute_result",
          "data": {
            "text/plain": "4"
          },
          "metadata": {}
        }
      ],
      "execution_count": 19
    },
    {
      "cell_type": "code",
      "source": "# Replace \nb[:,1,:] = [[9,9],[8,8]]\nb",
      "metadata": {
        "trusted": true
      },
      "outputs": [
        {
          "execution_count": 20,
          "output_type": "execute_result",
          "data": {
            "text/plain": "array([[[1, 2],\n        [9, 9]],\n\n       [[5, 6],\n        [8, 8]]])"
          },
          "metadata": {}
        }
      ],
      "execution_count": 20
    },
    {
      "cell_type": "markdown",
      "source": "## Initializing Different Types of Arrays",
      "metadata": {}
    },
    {
      "cell_type": "code",
      "source": "# All 0s matrix\nnp.zeros((3,3))",
      "metadata": {
        "trusted": true
      },
      "outputs": [
        {
          "execution_count": 21,
          "output_type": "execute_result",
          "data": {
            "text/plain": "array([[0., 0., 0.],\n       [0., 0., 0.],\n       [0., 0., 0.]])"
          },
          "metadata": {}
        }
      ],
      "execution_count": 21
    },
    {
      "cell_type": "code",
      "source": "# All 1s matrix\nc = np.ones((2,2), dtype='int32') # change its data type from float to integer 32\n\nprint(c)\nc[1,1].dtype",
      "metadata": {
        "trusted": true
      },
      "outputs": [
        {
          "name": "stdout",
          "text": "[[1 1]\n [1 1]]\n",
          "output_type": "stream"
        },
        {
          "execution_count": 22,
          "output_type": "execute_result",
          "data": {
            "text/plain": "dtype('int32')"
          },
          "metadata": {}
        }
      ],
      "execution_count": 22
    },
    {
      "cell_type": "code",
      "source": "# Any other number \nnp.full((2,2), 44)",
      "metadata": {
        "trusted": true
      },
      "outputs": [
        {
          "execution_count": 23,
          "output_type": "execute_result",
          "data": {
            "text/plain": "array([[44, 44],\n       [44, 44]])"
          },
          "metadata": {}
        }
      ],
      "execution_count": 23
    },
    {
      "cell_type": "code",
      "source": "# Any other number (full_like)\nnp.full_like(a,4) # creates a matrix of numbers using the shape of another matrix",
      "metadata": {
        "trusted": true
      },
      "outputs": [
        {
          "execution_count": 24,
          "output_type": "execute_result",
          "data": {
            "text/plain": "array([[4, 4, 4, 4, 4, 4, 4],\n       [4, 4, 4, 4, 4, 4, 4]])"
          },
          "metadata": {}
        }
      ],
      "execution_count": 24
    },
    {
      "cell_type": "code",
      "source": "# Random decimal numbers\nnp.random.rand(4,2) ",
      "metadata": {
        "trusted": true
      },
      "outputs": [
        {
          "execution_count": 25,
          "output_type": "execute_result",
          "data": {
            "text/plain": "array([[0.66174954, 0.49760073],\n       [0.0229995 , 0.28430969],\n       [0.10964983, 0.914179  ],\n       [0.71730099, 0.82969609]])"
          },
          "metadata": {}
        }
      ],
      "execution_count": 25
    },
    {
      "cell_type": "code",
      "source": "# Random Integer Values\nnp.random.randint(10, size=(4,4)) # 10 is max",
      "metadata": {
        "trusted": true
      },
      "outputs": [
        {
          "execution_count": 26,
          "output_type": "execute_result",
          "data": {
            "text/plain": "array([[7, 6, 4, 6],\n       [7, 4, 7, 7],\n       [0, 7, 5, 1],\n       [8, 2, 1, 4]])"
          },
          "metadata": {}
        }
      ],
      "execution_count": 26
    },
    {
      "cell_type": "code",
      "source": "# The Identity matrix\nnp.identity(5)",
      "metadata": {
        "trusted": true,
        "scrolled": true
      },
      "outputs": [
        {
          "execution_count": 27,
          "output_type": "execute_result",
          "data": {
            "text/plain": "array([[1., 0., 0., 0., 0.],\n       [0., 1., 0., 0., 0.],\n       [0., 0., 1., 0., 0.],\n       [0., 0., 0., 1., 0.],\n       [0., 0., 0., 0., 1.]])"
          },
          "metadata": {}
        }
      ],
      "execution_count": 27
    },
    {
      "cell_type": "code",
      "source": "# Repeat the array\narr1 = np.array([1,2,3]) # 1D\nr1 = np.repeat(arr1,3)\n\narr2 = np.array([[1,2,3]]) # 2D\nr2 = np.repeat(arr2,3,axis=0)\n\nprint(r1)\nprint(r2)",
      "metadata": {
        "trusted": true
      },
      "outputs": [
        {
          "name": "stdout",
          "text": "[1 1 1 2 2 2 3 3 3]\n[[1 2 3]\n [1 2 3]\n [1 2 3]]\n",
          "output_type": "stream"
        }
      ],
      "execution_count": 28
    },
    {
      "cell_type": "code",
      "source": "# Challenge\noutput = np.ones((5,5),dtype='int32')\nmid = np.zeros((3,3))\nmid[1,1] = 9\noutput[1:4, 1:4] = mid\n\nprint(output)",
      "metadata": {
        "trusted": true
      },
      "outputs": [
        {
          "name": "stdout",
          "text": "[[1 1 1 1 1]\n [1 0 0 0 1]\n [1 0 9 0 1]\n [1 0 0 0 1]\n [1 1 1 1 1]]\n",
          "output_type": "stream"
        }
      ],
      "execution_count": 29
    },
    {
      "cell_type": "markdown",
      "source": "## Be careful when copying arrays !!!",
      "metadata": {}
    },
    {
      "cell_type": "code",
      "source": "a = np.array([1,2,3])\nb = a\nb[0] = 100 # This will also change the a array\n\nprint(a)\nprint(b)",
      "metadata": {
        "trusted": true
      },
      "outputs": [
        {
          "name": "stdout",
          "text": "[100   2   3]\n[100   2   3]\n",
          "output_type": "stream"
        }
      ],
      "execution_count": 30
    },
    {
      "cell_type": "code",
      "source": "# Instead we should do this:\nc = np.array([1,2,3])\nd = c.copy()\nd[0] = 100\n\nprint(c)\nprint(d)",
      "metadata": {
        "trusted": true
      },
      "outputs": [
        {
          "name": "stdout",
          "text": "[1 2 3]\n[100   2   3]\n",
          "output_type": "stream"
        }
      ],
      "execution_count": 31
    },
    {
      "cell_type": "markdown",
      "source": "## Mathematics",
      "metadata": {}
    },
    {
      "cell_type": "code",
      "source": "a = np.array([1,2,3,4])\nb = np.array([1,0,1,0])\n\nsum = a + 2\nprint(sum)\n\nsub = a - 2\nprint(sub)\n\nmul = a * 2\nprint(mul)\n\npow = a ** 2\nprint(pow)\n\nc = a + b # element wise\nprint(c)",
      "metadata": {
        "trusted": true
      },
      "outputs": [
        {
          "name": "stdout",
          "text": "[3 4 5 6]\n[-1  0  1  2]\n[2 4 6 8]\n[ 1  4  9 16]\n[2 2 4 4]\n",
          "output_type": "stream"
        }
      ],
      "execution_count": 32
    },
    {
      "cell_type": "code",
      "source": "# Take sin\nnp.sin(a)",
      "metadata": {
        "trusted": true
      },
      "outputs": [
        {
          "execution_count": 33,
          "output_type": "execute_result",
          "data": {
            "text/plain": "array([ 0.84147098,  0.90929743,  0.14112001, -0.7568025 ])"
          },
          "metadata": {}
        }
      ],
      "execution_count": 33
    },
    {
      "cell_type": "code",
      "source": "# Take cos\nnp.cos(b)",
      "metadata": {
        "trusted": true
      },
      "outputs": [
        {
          "execution_count": 34,
          "output_type": "execute_result",
          "data": {
            "text/plain": "array([0.54030231, 1.        , 0.54030231, 1.        ])"
          },
          "metadata": {}
        }
      ],
      "execution_count": 34
    },
    {
      "cell_type": "markdown",
      "source": "## Linear algebera",
      "metadata": {}
    },
    {
      "cell_type": "code",
      "source": "a = np.ones((2,3))\nprint(a)\n\nb = np.full((3,4), 2)\nprint(b) \n\n# In linear algebra, columns of the first matrix must be equal to the rows of the second matrix\n# a * b  -- will not work here\n\nnp.matmul(a,b)",
      "metadata": {
        "trusted": true
      },
      "outputs": [
        {
          "name": "stdout",
          "text": "[[1. 1. 1.]\n [1. 1. 1.]]\n[[2 2 2 2]\n [2 2 2 2]\n [2 2 2 2]]\n",
          "output_type": "stream"
        },
        {
          "execution_count": 35,
          "output_type": "execute_result",
          "data": {
            "text/plain": "array([[6., 6., 6., 6.],\n       [6., 6., 6., 6.]])"
          },
          "metadata": {}
        }
      ],
      "execution_count": 35
    },
    {
      "cell_type": "code",
      "source": "# Find the determinant\nc = np.identity(3)\nnp.linalg.det(c) # determinant of an identity matrix is one",
      "metadata": {
        "trusted": true
      },
      "outputs": [
        {
          "execution_count": 36,
          "output_type": "execute_result",
          "data": {
            "text/plain": "1.0"
          },
          "metadata": {}
        }
      ],
      "execution_count": 36
    },
    {
      "cell_type": "markdown",
      "source": "**You can visit the documentation for more info about the linear algebra in numpy**\n[https://numpy.org/doc/stable/reference/routines.linalg.html]",
      "metadata": {}
    },
    {
      "cell_type": "markdown",
      "source": "## Statistics",
      "metadata": {}
    },
    {
      "cell_type": "code",
      "source": "stats = np.array([[1,2,3],[4,5,6]])\nprint(stats)\n\nprint(np.min(stats))\nprint(np.max(stats))\nprint(np.sum(stats))",
      "metadata": {
        "trusted": true
      },
      "outputs": [
        {
          "name": "stdout",
          "text": "[[1 2 3]\n [4 5 6]]\n1\n6\n21\n",
          "output_type": "stream"
        }
      ],
      "execution_count": 37
    },
    {
      "cell_type": "markdown",
      "source": "## Reorganizing arrays",
      "metadata": {}
    },
    {
      "cell_type": "code",
      "source": "# Resahping arrays\nbefore = np.array([[1,2,3,4],[5,6,7,8]])\nprint(before)\n\nafter = before.reshape((8,1))\nprint(after)",
      "metadata": {
        "trusted": true
      },
      "outputs": [
        {
          "name": "stdout",
          "text": "[[1 2 3 4]\n [5 6 7 8]]\n[[1]\n [2]\n [3]\n [4]\n [5]\n [6]\n [7]\n [8]]\n",
          "output_type": "stream"
        }
      ],
      "execution_count": 38
    },
    {
      "cell_type": "code",
      "source": "# Vertically stacking vectors\nv1 = np.array([1,2,3,4])\nv2 = np.array([5,6,7,8])\n\nnp.vstack([v1,v2,v1,v2])",
      "metadata": {
        "trusted": true
      },
      "outputs": [
        {
          "execution_count": 39,
          "output_type": "execute_result",
          "data": {
            "text/plain": "array([[1, 2, 3, 4],\n       [5, 6, 7, 8],\n       [1, 2, 3, 4],\n       [5, 6, 7, 8]])"
          },
          "metadata": {}
        }
      ],
      "execution_count": 39
    },
    {
      "cell_type": "code",
      "source": "# Horizontal stacking vectors\nh1 = np.ones((2,4))\nh2 = np.zeros((2,2))\n\nprint(h1)\nprint(h2)\nnp.hstack((h1,h2))",
      "metadata": {
        "trusted": true
      },
      "outputs": [
        {
          "name": "stdout",
          "text": "[[1. 1. 1. 1.]\n [1. 1. 1. 1.]]\n[[0. 0.]\n [0. 0.]]\n",
          "output_type": "stream"
        },
        {
          "execution_count": 40,
          "output_type": "execute_result",
          "data": {
            "text/plain": "array([[1., 1., 1., 1., 0., 0.],\n       [1., 1., 1., 1., 0., 0.]])"
          },
          "metadata": {}
        }
      ],
      "execution_count": 40
    },
    {
      "cell_type": "markdown",
      "source": "## Miscellaneous\n### Load data from file",
      "metadata": {}
    },
    {
      "cell_type": "code",
      "source": "# Load data from a file as a numpy array\nfiledata = np.genfromtxt('data.txt', delimiter=',') # load the file from directory\nfiledata = filedata.astype('int32') # Change data type from float to integer\nfiledata",
      "metadata": {
        "trusted": true
      },
      "outputs": [
        {
          "execution_count": 48,
          "output_type": "execute_result",
          "data": {
            "text/plain": "array([[  1,  13,  21,  11, 196,  75,   4,   3,  34,   6,   7,   8,   0,\n          1,   2,   3,   4,   5],\n       [  3,  42,  12,  33, 766,  75,   4,  55,   6,   4,   3,   4,   5,\n          6,   7,   0,  11,  12],\n       [  1,  22,  33,  11, 999,  11,   2,   1,  78,   0,   1,   2,   9,\n          8,   7,   1,  76,  88]])"
          },
          "metadata": {}
        }
      ],
      "execution_count": 48
    },
    {
      "cell_type": "markdown",
      "source": "## Boolean Masking and Advanced Indexing",
      "metadata": {}
    },
    {
      "cell_type": "code",
      "source": "filedata > 50 # Iterate over the array and places a false if the value is less the 50 and true if greater than 50",
      "metadata": {
        "trusted": true
      },
      "outputs": [
        {
          "execution_count": 54,
          "output_type": "execute_result",
          "data": {
            "text/plain": "array([[False, False, False, False,  True,  True, False, False, False,\n        False, False, False, False, False, False, False, False, False],\n       [False, False, False, False,  True,  True, False,  True, False,\n        False, False, False, False, False, False, False, False, False],\n       [False, False, False, False,  True, False, False, False,  True,\n        False, False, False, False, False, False, False,  True,  True]])"
          },
          "metadata": {}
        }
      ],
      "execution_count": 54
    },
    {
      "cell_type": "code",
      "source": "filedata[filedata > 50] # Returns the indexes of all elements that are greater than 50",
      "metadata": {
        "trusted": true
      },
      "outputs": [
        {
          "execution_count": 55,
          "output_type": "execute_result",
          "data": {
            "text/plain": "array([196,  75, 766,  75,  55, 999,  78,  76,  88])"
          },
          "metadata": {}
        }
      ],
      "execution_count": 55
    },
    {
      "cell_type": "code",
      "source": "# You can index with a list in NumPy\na = np.array([1,2,3,4,5,6,7,8,9])\na[[1,2,8]]",
      "metadata": {
        "trusted": true
      },
      "outputs": [
        {
          "execution_count": 56,
          "output_type": "execute_result",
          "data": {
            "text/plain": "array([2, 3, 9])"
          },
          "metadata": {}
        }
      ],
      "execution_count": 56
    },
    {
      "cell_type": "code",
      "source": "np.any(filedata > 50, axis = 0) # Returns true for the column that have a value greater than 50",
      "metadata": {
        "trusted": true
      },
      "outputs": [
        {
          "execution_count": 57,
          "output_type": "execute_result",
          "data": {
            "text/plain": "array([False, False, False, False,  True,  True, False,  True,  True,\n       False, False, False, False, False, False, False,  True,  True])"
          },
          "metadata": {}
        }
      ],
      "execution_count": 57
    },
    {
      "cell_type": "code",
      "source": "np.all(filedata > 50, axis = 0) # Returns true if the entire column is greater than 50",
      "metadata": {
        "trusted": true
      },
      "outputs": [
        {
          "execution_count": 58,
          "output_type": "execute_result",
          "data": {
            "text/plain": "array([False, False, False, False,  True, False, False, False, False,\n       False, False, False, False, False, False, False, False, False])"
          },
          "metadata": {}
        }
      ],
      "execution_count": 58
    },
    {
      "cell_type": "code",
      "source": "~((filedata > 50) & (filedata < 100))",
      "metadata": {
        "trusted": true
      },
      "outputs": [
        {
          "execution_count": 60,
          "output_type": "execute_result",
          "data": {
            "text/plain": "array([[ True,  True,  True,  True,  True, False,  True,  True,  True,\n         True,  True,  True,  True,  True,  True,  True,  True,  True],\n       [ True,  True,  True,  True,  True, False,  True, False,  True,\n         True,  True,  True,  True,  True,  True,  True,  True,  True],\n       [ True,  True,  True,  True,  True,  True,  True,  True, False,\n         True,  True,  True,  True,  True,  True,  True, False, False]])"
          },
          "metadata": {}
        }
      ],
      "execution_count": 60
    },
    {
      "cell_type": "code",
      "source": "quiz = np.array([[1,2,3,4,5],[6,7,8,9,10],[11,12,13,14,15],[16,17,18,19,20],[21,22,23,24,25],[26,27,28,29,30]])\nquiz[-3:0, 3:]",
      "metadata": {
        "trusted": true
      },
      "outputs": [
        {
          "execution_count": 68,
          "output_type": "execute_result",
          "data": {
            "text/plain": "array([], shape=(0, 2), dtype=int32)"
          },
          "metadata": {}
        }
      ],
      "execution_count": 68
    },
    {
      "cell_type": "code",
      "source": "",
      "metadata": {
        "trusted": true
      },
      "outputs": [],
      "execution_count": null
    }
  ]
}